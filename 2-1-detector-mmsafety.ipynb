{
 "cells": [
  {
   "cell_type": "code",
   "execution_count": 8,
   "metadata": {},
   "outputs": [],
   "source": [
    "import torch\n",
    "import numpy as np\n",
    "import matplotlib.pyplot as plt\n",
    "import pickle\n",
    "from utils.metric import evaluate\n",
    "from sklearn.linear_model import LogisticRegression, SGDClassifier\n",
    "from sklearn.discriminant_analysis import LinearDiscriminantAnalysis\n",
    "from sklearn.metrics import silhouette_score, pairwise_distances\n",
    "from tqdm import tqdm\n",
    "import random\n",
    "from sklearn.manifold import TSNE\n",
    "from sklearn.decomposition import PCA\n",
    "import seaborn as sns\n",
    "from matplotlib.cm import ScalarMappable\n",
    "\n",
    "import os\n",
    "import sklearn\n",
    "# help(sklearn.discriminant_analysis)\n",
    "import warnings\n",
    "warnings.filterwarnings(\"ignore\")"
   ]
  },
  {
   "cell_type": "code",
   "execution_count": null,
   "metadata": {},
   "outputs": [],
   "source": [
    "def read_data(pkl_path, loc):\n",
    "    with open(pkl_path, 'rb') as file:\n",
    "        data = pickle.load(file)\n",
    "    pos_data, neg_data = [], []\n",
    "    for d in data:\n",
    "        if d['label'] == 0:\n",
    "            pos_data.append(d[loc])\n",
    "        else:\n",
    "            neg_data.append(d[loc])\n",
    "    if len(pos_data) == 0:\n",
    "        pos_data = torch.empty(0)\n",
    "    else:\n",
    "        pos_data = torch.stack(pos_data).float()\n",
    "    \n",
    "    if len(neg_data) == 0:\n",
    "        neg_data = torch.empty(0)\n",
    "    else:\n",
    "        neg_data = torch.stack(neg_data).float()\n",
    "    # assert pos_data.shape[0] == neg_data.shape[0]\n",
    "    return pos_data, neg_data\n",
    "\n",
    "def read_data_all(pkl_path):\n",
    "    with open(pkl_path, 'rb') as file:\n",
    "        data = pickle.load(file)\n",
    "    pos_data, neg_data = [], []\n",
    "    for d in data:\n",
    "        if d['label'] == 0:\n",
    "            pos_data.append(d)\n",
    "        else:\n",
    "            neg_data.append(d)\n",
    "    return pos_data, neg_data\n",
    "\n",
    "def mix_data_fitting(x_train, y_train, model_name='lr'):\n",
    "    model_list = []\n",
    "    for head in range(x_train.shape[1]): # 32 * 32 = 1024\n",
    "        if model_name == 'lda':\n",
    "            model = LinearDiscriminantAnalysis(store_covariance=True)\n",
    "        elif model_name == 'lr':\n",
    "            model = LogisticRegression(penalty='l2')\n",
    "        elif model_name == 'sgd':\n",
    "            model = SGDClassifier(loss='log_loss')\n",
    "        else:\n",
    "            raise NotImplementedError\n",
    "        model.fit(x_train[:, head], y_train)\n",
    "        model_list.append(model)\n",
    "    return model_list\n",
    "\n",
    "def evaluation(x_val, y_val, model_list, shot=0, threshold=0.5):\n",
    "    accs_mlp, asrs_mlp, prs_mlp, f1s_mlp, auroc_mlp = [], [], [], [], []\n",
    "    matrixes = []\n",
    "    for layer, model in enumerate(model_list):\n",
    "        x_l = x_val[:, layer]\n",
    "        y_l = y_val\n",
    "        if shot > 0:\n",
    "            model.partial_fit(x_val[:shot, layer], y_val[:shot], classes=[0,1])\n",
    "            x_l = x_val[shot:, layer]\n",
    "            y_l = y_val[shot:]\n",
    "        y_pred = model.predict_proba(x_l)[:, 1]\n",
    "        # acc, asr, pr, f1, auroc, neg_per_sample_result, pos_per_sample_result = \\\n",
    "        #     evaluate(y_l, y_pred, show=False, threshold=threshold, enable_analyse=True)\n",
    "        acc, asr, pr, f1, auroc, matrix = \\\n",
    "            evaluate(y_l, y_pred, show=False, threshold=threshold)\n",
    "        matrixes.append(matrix)\n",
    "        accs_mlp.append(acc)\n",
    "        asrs_mlp.append(asr)\n",
    "        prs_mlp.append(pr)\n",
    "        f1s_mlp.append(f1)\n",
    "        auroc_mlp.append(auroc)\n",
    "    return accs_mlp, asrs_mlp, prs_mlp, f1s_mlp, auroc_mlp, y_pred, matrixes\n"
   ]
  },
  {
   "cell_type": "code",
   "execution_count": null,
   "metadata": {},
   "outputs": [],
   "source": [
    "def train_val_split(pos_data, neg_data, num_shot=10):\n",
    "    total_num = pos_data.shape[0]\n",
    "    train_num = int(num_shot) if num_shot != -1 else total_num\n",
    "    val_num = total_num - train_num\n",
    "    train_idx = random.sample(range(total_num), train_num)\n",
    "    val_idx = list(set(range(total_num)) - set(train_idx))\n",
    "\n",
    "    x_train = torch.cat([pos_data[train_idx], neg_data[train_idx]], dim=0)\n",
    "    y_train = torch.cat([torch.zeros(train_num), torch.ones(train_num)])\n",
    "    x_val = torch.cat([pos_data[val_idx], neg_data[val_idx]], dim=0)\n",
    "    y_val = torch.cat([torch.zeros(val_num), torch.ones(val_num)])\n",
    "\n",
    "    return x_train, y_train, x_val, y_val\n",
    "\n",
    "def get_safety_heads_activation(data, top_k_indices):\n",
    "    layer_idx = top_k_indices[:, 0]\n",
    "    head_idx = top_k_indices[:, 1]\n",
    "    activations = data[:, layer_idx, head_idx]\n",
    "    return activations.reshape(data.shape[0], 1, -1)\n",
    "\n",
    "def few_shot_probing(pos_data, neg_data, num_shot, num_repeat=10, threshold=0.5, model_name='lr'):\n",
    "    model_list = []\n",
    "    accs, asrs, prs, f1s, aurocs = [], [], [], [], []\n",
    "    kappas, alphas= [], []\n",
    "    matrixes = []\n",
    "    for _ in tqdm(range(num_repeat)):\n",
    "        if len(pos_data.shape) > 3:   # 'attn_headas'\n",
    "            n, nl, nh, dh = pos_data.shape\n",
    "            pos_data, neg_data = pos_data.reshape(n, -1, dh), neg_data.reshape(n, -1, dh) # 按head数创建model\n",
    "        x_train, y_train, x_val, y_val = train_val_split(pos_data, neg_data, num_shot=num_shot)\n",
    "        # [num_shot, 1024, 128]\n",
    "        models = mix_data_fitting(x_train, y_train, model_name=model_name)\n",
    "        if model_name == 'lda':\n",
    "            heads_kappa, heads_alpha = [], []\n",
    "            # print(x_val.shape, y_val.shape, y_val==0)\n",
    "            x_pos = x_val[y_val == 0, :, :]\n",
    "            x_neg = x_val[y_val == 1, :, :]\n",
    "            for head in range(x_val.shape[1]):\n",
    "                w = models[0].coef_.flatten() # (128,)\n",
    "                x_pos_head = x_pos[:, head, :]\n",
    "                x_neg_head = x_neg[:, head, :]\n",
    "                # print(x_pos_head.shape)\n",
    "                \n",
    "                u_pos = torch.mean(x_pos_head, axis=0)\n",
    "                u_neg = torch.mean(x_neg_head, axis=0)\n",
    "\n",
    "                cov_pos = np.cov(x_pos_head, rowvar=False)\n",
    "                cov_neg = np.cov(x_neg_head, rowvar=False)\n",
    "\n",
    "                numerator = np.abs(np.dot(w.T, u_pos - u_neg))  # 分子部分\n",
    "                denominator = np.sqrt(np.dot(np.dot(w.T, cov_pos), w)) + np.sqrt(np.dot(np.dot(w.T, cov_neg), w))  # 分母部分\n",
    "                kappa = numerator / denominator  # 最终的kappa值\n",
    "                \n",
    "                alpha = kappa**2 / (1+kappa**2)\n",
    "                heads_kappa.append(kappa)\n",
    "                heads_alpha.append(alpha)\n",
    "            kappas.append(heads_kappa)\n",
    "            alphas.append(heads_alpha)\n",
    "\n",
    "        model_list.append(models)\n",
    "        accs_mlp, asrs_mlp, prs_mlp, f1s_mlp, auroc_mlp, y_pred, matrix = evaluation(x_val, y_val, models,  threshold=threshold)\n",
    "        matrixes.append(matrix)\n",
    "        accs.append(accs_mlp)\n",
    "        asrs.append(asrs_mlp)\n",
    "        prs.append(prs_mlp)\n",
    "        f1s.append(f1s_mlp)\n",
    "        aurocs.append(auroc_mlp)\n",
    "\n",
    "    return {\n",
    "        'acc': np.array(accs),\n",
    "        'asr': np.array(asrs),\n",
    "        'pr': np.array(prs),\n",
    "        'f1': np.array(f1s),\n",
    "        'auroc': np.array(aurocs),\n",
    "        'pred': y_pred,\n",
    "        'threshold': threshold,\n",
    "        'kappa': np.array(kappas),\n",
    "        'alpha': np.array(alphas),\n",
    "        'matrixes': matrixes\n",
    "    }, model_list\n",
    "\n",
    "def testing(test_data, labels, model_list, shot=0, threshold=0.5):\n",
    "    accs, asrs, prs, f1s, aurocs = [], [], [], [], []\n",
    "    matrixes = []\n",
    "    for models in tqdm(model_list):\n",
    "        if len(test_data.shape) > 3:   # 'attn_headas'\n",
    "            n, nl, nh, dh = test_data.shape\n",
    "            test_data = test_data.reshape(n, -1, dh)\n",
    "        x_val = test_data\n",
    "        y_val = labels\n",
    "        accs_mlp, asrs_mlp, prs_mlp, f1s_mlp, auroc_mlp, y_pred, matrix = evaluation(x_val, y_val, models, shot=shot, threshold=threshold)\n",
    "        matrixes.append(matrix)\n",
    "        accs.append(accs_mlp)\n",
    "        asrs.append(asrs_mlp)\n",
    "        prs.append(prs_mlp)\n",
    "        f1s.append(f1s_mlp)\n",
    "        aurocs.append(auroc_mlp)\n",
    "    return {\n",
    "        'acc': np.array(accs),\n",
    "        'asr': np.array(asrs),\n",
    "        'pr': np.array(prs),\n",
    "        'f1': np.array(f1s),\n",
    "        'auroc': np.array(aurocs),\n",
    "        'pred': y_pred,\n",
    "        'threshold': threshold,\n",
    "        'matrixes':matrixes\n",
    "    }\n",
    "\n",
    "def plot_avg_confusion_matrix(matrixes):\n",
    "    flat_matrixes = [tuple_4 for [tuple_4] in matrixes]\n",
    "    # (N, 4)\n",
    "    matrix_array = np.array(flat_matrixes)\n",
    "\n",
    "    if matrix_array.shape[1] != 4:\n",
    "        raise ValueError(\"(TP, FN, FP, TN)\")\n",
    "\n",
    "    avg_tp, avg_fn, avg_fp, avg_tn = matrix_array.mean(axis=0)\n",
    "\n",
    "    conf_matrix = np.array([\n",
    "        [avg_tp, avg_fn],  \n",
    "        [avg_fp, avg_tn]   \n",
    "    ])\n",
    "\n",
    "    plt.figure(figsize=(3, 3))\n",
    "    sns.heatmap(conf_matrix, annot=True, fmt=\".2f\", cmap=\"Blues\",\n",
    "                xticklabels=[\"Pred 1\", \"Pred 0\"], yticklabels=[\"True 1\", \"True 0\"])\n",
    "    plt.title(\"Average Confusion Matrix (Row-normalization)\")\n",
    "    plt.xlabel(\"Prediction\")\n",
    "    plt.ylabel(\"GT\")\n",
    "    plt.tight_layout()\n",
    "    plt.show()\n"
   ]
  },
  {
   "cell_type": "markdown",
   "metadata": {},
   "source": [
    "# MMSafety"
   ]
  },
  {
   "cell_type": "code",
   "execution_count": 3,
   "metadata": {},
   "outputs": [
    {
     "data": {
      "text/plain": [
       "(dict_keys(['image', 'img_path', 'model_name', 'question', 'answer', 'label', 'attn_residual', 'hidden_states', 'mlp_residual', 'attn_heads', 'vit_attn_heads', 'hidden_states_mean']),\n",
       " torch.Size([252, 32, 32, 128]),\n",
       " torch.Size([252, 32, 32, 128]))"
      ]
     },
     "execution_count": 3,
     "metadata": {},
     "output_type": "execute_result"
    }
   ],
   "source": [
    "pos_data_train_all, neg_data_train_all = read_data_all('output_old/LLaVA-7B/raw_mmsafety_train_all_oe_activations.pkl')\n",
    "pos_data_train, neg_data_train = torch.stack([d['attn_heads'] for d in pos_data_train_all]), torch.stack([d['attn_heads'] for d in neg_data_train_all])\n",
    "pos_data_train_all[0].keys(), pos_data_train.shape, neg_data_train.shape"
   ]
  },
  {
   "cell_type": "code",
   "execution_count": 4,
   "metadata": {},
   "outputs": [
    {
     "data": {
      "text/plain": [
       "(torch.Size([252, 32, 32, 128]), torch.Size([1548, 32, 32, 128]))"
      ]
     },
     "execution_count": 4,
     "metadata": {},
     "output_type": "execute_result"
    }
   ],
   "source": [
    "pos_data_train, neg_data_train = read_data('output/LLaVA-7B/raw_mmsafety_train_all_oe_activations.pkl', loc='attn_heads')\n",
    "pos_data_test, neg_data_test = read_data('output/LLaVA-7B/raw_mmsafety_test_all_oe_activations.pkl', loc='attn_heads')\n",
    "# pos_data_train, neg_data_train = read_data('output/Qwen-VL-Chat/raw_mmsafety_train_all_oe_activations.pkl', loc='attn_heads')\n",
    "# pos_data_test, neg_data_test = read_data('output/Qwen-VL-Chat/raw_mmsafety_test_all_oe_activations.pkl', loc='attn_heads')\n",
    "pos_data_train.shape, pos_data_test.shape"
   ]
  },
  {
   "cell_type": "markdown",
   "metadata": {},
   "source": [
    "### locate(1/2) probe each head `metrics_mmsafety['acc']`"
   ]
  },
  {
   "cell_type": "code",
   "execution_count": 11,
   "metadata": {},
   "outputs": [],
   "source": [
    "def plot_heatmap(metrics_mmsafety, save_path=None):\n",
    "    from matplotlib.colors import LinearSegmentedColormap\n",
    "    mean = metrics_mmsafety['alpha'].mean(0).reshape(32, 32)\n",
    "    normalized_mean = (mean - mean.min()) / (mean.max() - mean.min())\n",
    "    colors = [\"#ffffff\",\"#ffb72c\"]\n",
    "    custom_cmap = LinearSegmentedColormap.from_list(\"custom\", colors)\n",
    "    # 128/1024 heads\n",
    "    sns.heatmap(normalized_mean.T, vmin=np.quantile(normalized_mean, 0.875), vmax=normalized_mean.max(), linewidths=0.5, cmap=custom_cmap)\n",
    "    if save_path is not None:\n",
    "        os.makedirs(os.path.dirname(save_path), exist_ok=True)\n",
    "        plt.savefig(save_path, format='pdf', dpi=300, bbox_inches='tight', transparent=True)\n",
    "    plt.show()"
   ]
  },
  {
   "cell_type": "code",
   "execution_count": 10,
   "metadata": {},
   "outputs": [
    {
     "name": "stderr",
     "output_type": "stream",
     "text": [
      "100%|██████████| 20/20 [04:08<00:00, 12.40s/it]\n"
     ]
    }
   ],
   "source": [
    "metrics_mmsafety, _ = few_shot_probing(pos_data_train, neg_data_train, num_shot=17, num_repeat=20, model_name='lda')"
   ]
  },
  {
   "cell_type": "code",
   "execution_count": 12,
   "metadata": {},
   "outputs": [
    {
     "data": {
      "image/png": "[encoded data removed]",
      "text/plain": [
       "<Figure size 640x480 with 2 Axes>"
      ]
     },
     "metadata": {},
     "output_type": "display_data"
    }
   ],
   "source": [
    "heatmap_name = \"raw_figs/875/llava-17shot-heatmap.pdf\"\n",
    "plot_heatmap(metrics_mmsafety, heatmap_name)"
   ]
  },
  {
   "cell_type": "code",
   "execution_count": 13,
   "metadata": {},
   "outputs": [
    {
     "data": {
      "image/png": "[encoded data removed]",
      "text/plain": [
       "<Figure size 640x480 with 1 Axes>"
      ]
     },
     "metadata": {},
     "output_type": "display_data"
    }
   ],
   "source": [
    "distribution_name = \"raw_figs/distribution/llava-17shot-alpha-var.pdf\"\n",
    "x, y = metrics_mmsafety['kappa'].mean(0), metrics_mmsafety['kappa'].var(0) # 'alpha' 'kappa' 'acc'\n",
    "top_indices = np.argsort(x)[-32:]\n",
    "colors = ['#ffb72c' if i in top_indices else '#9dacd1' for i in range(len(x))]\n",
    "plt.scatter(x+0.02, y, s=30, alpha=0.8, edgecolor='none', c=colors, zorder=2)\n",
    "# plt.title('1% Probes for Each Attention Head')\n",
    "# plt.xlabel('Mean Accuracy (%)')\n",
    "# plt.ylabel('Variance')\n",
    "# plt.ylim(0,1e-35)\n",
    "# plt.xlim(0.45)\n",
    "plt.gca().set_facecolor('#F2F2F2')\n",
    "plt.grid(zorder=1)\n",
    "os.makedirs(os.path.dirname(distribution_name), exist_ok=True)\n",
    "plt.savefig(distribution_name, format='pdf', dpi=300, bbox_inches='tight', transparent=False)\n",
    "plt.show()"
   ]
  },
  {
   "cell_type": "markdown",
   "metadata": {},
   "source": [
    "### locate(2/2) `top_k_indices` and $Acc_k$"
   ]
  },
  {
   "cell_type": "code",
   "execution_count": 14,
   "metadata": {},
   "outputs": [
    {
     "name": "stderr",
     "output_type": "stream",
     "text": [
      "100%|██████████| 20/20 [04:10<00:00, 12.51s/it]\n"
     ]
    }
   ],
   "source": [
    "metrics_mmsafety, _ = few_shot_probing(pos_data_train, neg_data_train, num_shot=20, num_repeat=20, model_name='lda')"
   ]
  },
  {
   "cell_type": "code",
   "execution_count": 15,
   "metadata": {},
   "outputs": [
    {
     "data": {
      "text/plain": [
       "0.8262055495689656"
      ]
     },
     "execution_count": 15,
     "metadata": {},
     "output_type": "execute_result"
    }
   ],
   "source": [
    "# 1. calculate average accuracy\n",
    "top_k = 32\n",
    "top_k_indices_flat = np.argsort(metrics_mmsafety['alpha'].mean(0))[-top_k:][::-1]\n",
    "top_k_indices = np.array(np.unravel_index(top_k_indices_flat, (32, 32))).T\n",
    "np.sort(metrics_mmsafety['acc'].mean(0))[-top_k:].mean() # 返回数组的值 取平均"
   ]
  },
  {
   "cell_type": "code",
   "execution_count": 16,
   "metadata": {},
   "outputs": [
    {
     "name": "stdout",
     "output_type": "stream",
     "text": [
      "top1: layer 18 head 27\n",
      "top2: layer 28 head 29\n",
      "top3: layer 4 head 30\n",
      "top4: layer 23 head 4\n",
      "top5: layer 18 head 29\n",
      "top6: layer 7 head 14\n",
      "top7: layer 9 head 20\n",
      "top8: layer 27 head 31\n",
      "top9: layer 29 head 25\n",
      "top10: layer 9 head 29\n",
      "top11: layer 18 head 26\n",
      "top12: layer 14 head 31\n",
      "top13: layer 1 head 0\n",
      "top14: layer 23 head 27\n",
      "top15: layer 9 head 27\n",
      "top16: layer 16 head 12\n",
      "top17: layer 7 head 1\n",
      "top18: layer 10 head 25\n",
      "top19: layer 22 head 6\n",
      "top20: layer 5 head 4\n",
      "top21: layer 16 head 25\n",
      "top22: layer 7 head 28\n",
      "top23: layer 19 head 30\n",
      "top24: layer 12 head 31\n",
      "top25: layer 9 head 15\n",
      "top26: layer 9 head 18\n",
      "top27: layer 19 head 0\n",
      "top28: layer 21 head 8\n",
      "top29: layer 10 head 10\n",
      "top30: layer 10 head 31\n",
      "top31: layer 13 head 26\n",
      "top32: layer 22 head 1\n"
     ]
    },
    {
     "data": {
      "text/plain": [
       "(array([ 32, 158, 164, 225, 238, 252, 303, 306, 308, 315, 317, 330, 345,\n",
       "        351, 415, 442, 479, 524, 537, 602, 603, 605, 608, 638, 680, 705,\n",
       "        710, 740, 763, 895, 925, 953]),\n",
       " array([[ 1,  0],\n",
       "        [ 4, 30],\n",
       "        [ 5,  4],\n",
       "        [ 7,  1],\n",
       "        [ 7, 14],\n",
       "        [ 7, 28],\n",
       "        [ 9, 15],\n",
       "        [ 9, 18],\n",
       "        [ 9, 20],\n",
       "        [ 9, 27],\n",
       "        [ 9, 29],\n",
       "        [10, 10],\n",
       "        [10, 25],\n",
       "        [10, 31],\n",
       "        [12, 31],\n",
       "        [13, 26],\n",
       "        [14, 31],\n",
       "        [16, 12],\n",
       "        [16, 25],\n",
       "        [18, 26],\n",
       "        [18, 27],\n",
       "        [18, 29],\n",
       "        [19,  0],\n",
       "        [19, 30],\n",
       "        [21,  8],\n",
       "        [22,  1],\n",
       "        [22,  6],\n",
       "        [23,  4],\n",
       "        [23, 27],\n",
       "        [27, 31],\n",
       "        [28, 29],\n",
       "        [29, 25]]))"
      ]
     },
     "execution_count": 16,
     "metadata": {},
     "output_type": "execute_result"
    }
   ],
   "source": [
    "# 2. get the indices for plotting tsne\n",
    "for i, ind in enumerate(top_k_indices):\n",
    "    print(f'top{i+1}: layer {ind[0]} head {ind[1]}')\n",
    "top_k_indices_flat[np.lexsort((top_k_indices[:, 1], top_k_indices[:, 0]))], top_k_indices[np.lexsort((top_k_indices[:, 1], top_k_indices[:, 0]))]"
   ]
  },
  {
   "cell_type": "markdown",
   "metadata": {},
   "source": [
    "### train"
   ]
  },
  {
   "cell_type": "code",
   "execution_count": 17,
   "metadata": {},
   "outputs": [
    {
     "name": "stderr",
     "output_type": "stream",
     "text": [
      "100%|██████████| 20/20 [00:20<00:00,  1.01s/it]\n"
     ]
    },
    {
     "data": {
      "image/png": "[encoded data removed]",
      "text/plain": [
       "<Figure size 300x300 with 2 Axes>"
      ]
     },
     "metadata": {},
     "output_type": "display_data"
    },
    {
     "data": {
      "text/plain": [
       "(4.523809523809524, 96.11111111111111, 95.79365079365078, 95.77563968354193)"
      ]
     },
     "execution_count": 17,
     "metadata": {},
     "output_type": "execute_result"
    }
   ],
   "source": [
    "# num_shot = int(pos_data_train.shape[0] / 3 * 2) * 0.5\n",
    "num_shot = int(pos_data_train.shape[0] * 0.5)\n",
    "num_repeat = 20\n",
    "metrics, model_list_lda = few_shot_probing(get_safety_heads_activation(pos_data_train, top_k_indices), get_safety_heads_activation(neg_data_train, top_k_indices), num_shot=num_shot, num_repeat=num_repeat, model_name='lda')\n",
    "plot_avg_confusion_matrix(metrics['matrixes'])\n",
    "metrics['asr'].mean(), metrics['pr'].mean(), metrics['acc'].mean()*100, metrics['f1'].mean()*100"
   ]
  },
  {
   "cell_type": "markdown",
   "metadata": {},
   "source": [
    "### LLaVA test"
   ]
  },
  {
   "cell_type": "markdown",
   "metadata": {},
   "source": [
    "#### mmsafety in domain"
   ]
  },
  {
   "cell_type": "code",
   "execution_count": 18,
   "metadata": {},
   "outputs": [
    {
     "name": "stderr",
     "output_type": "stream",
     "text": [
      "  0%|          | 0/20 [00:00<?, ?it/s]"
     ]
    },
    {
     "name": "stderr",
     "output_type": "stream",
     "text": [
      "100%|██████████| 20/20 [00:01<00:00, 11.71it/s]\n"
     ]
    },
    {
     "data": {
      "image/png": "[encoded data removed]",
      "text/plain": [
       "<Figure size 300x300 with 2 Axes>"
      ]
     },
     "metadata": {},
     "output_type": "display_data"
    },
    {
     "data": {
      "text/plain": [
       "(4.145658263305323, 93.37855297157623, 94.56653225806451, 94.42233675589094)"
      ]
     },
     "execution_count": 18,
     "metadata": {},
     "output_type": "execute_result"
    }
   ],
   "source": [
    "# ind test\n",
    "model_list = model_list_lda\n",
    "metrics = testing(torch.cat([get_safety_heads_activation(pos_data_test, top_k_indices), get_safety_heads_activation(neg_data_test, top_k_indices)]), \\\n",
    "            torch.cat([torch.zeros(pos_data_test.shape[0]), torch.ones(neg_data_test.shape[0])]), model_list, threshold=0.5)\n",
    "plot_avg_confusion_matrix(metrics['matrixes'])\n",
    "metrics['asr'].mean(), metrics['pr'].mean(), metrics['acc'].mean()*100, metrics['f1'].mean()*100"
   ]
  },
  {
   "cell_type": "code",
   "execution_count": 19,
   "metadata": {},
   "outputs": [
    {
     "data": {
      "text/plain": [
       "(0.9456653225806452, 2.0946017964504547e-05)"
      ]
     },
     "execution_count": 19,
     "metadata": {},
     "output_type": "execute_result"
    }
   ],
   "source": [
    "metrics['acc'].mean(), metrics['acc'].var()"
   ]
  },
  {
   "cell_type": "markdown",
   "metadata": {},
   "source": [
    "#### pred_json: for generation test on mmsafety"
   ]
  },
  {
   "cell_type": "code",
   "execution_count": null,
   "metadata": {},
   "outputs": [],
   "source": [
    "import json\n",
    "test_mmsafety = 'output/LLaVA-7B/raw_mmsafety_test_all_oe_activations.pkl'\n",
    "json_path = './eval/mmsafety/llava/alpha_250623.json'\n",
    "os.makedirs(os.path.dirname(json_path), exist_ok=True)\n",
    "pos_data_test_all, neg_data_test_all = read_data_all(test_mmsafety)\n",
    "# pos_data_test_all, neg_data_test_all = read_data_all('output/Qwen-VL-Chat/raw_mmsafety_test_all_oe_activations.pkl')\n",
    "data = dict()\n",
    "for i, d in enumerate(pos_data_test_all):\n",
    "    data[d['img_path']] = int(metrics['pred'][i] > 0.5)\n",
    "for i, d in enumerate(neg_data_test_all):\n",
    "    data[d['img_path']] = int(metrics['pred'][i+len(pos_data_test_all)] > 0.5)\n",
    "with open(json_path, \"w\", encoding=\"utf-8\") as f:\n",
    "    json.dump(data, f, indent=4)"
   ]
  },
  {
   "cell_type": "markdown",
   "metadata": {},
   "source": [
    "#### pred_json: for general test on mmvet"
   ]
  },
  {
   "cell_type": "code",
   "execution_count": null,
   "metadata": {},
   "outputs": [
    {
     "data": {
      "text/plain": [
       "(torch.Size([218, 32, 32, 128]), torch.Size([0]))"
      ]
     },
     "execution_count": 26,
     "metadata": {},
     "output_type": "execute_result"
    }
   ],
   "source": [
    "pos_data_mmvet, neg_data_mmvet = read_data(test_mmvet, loc='attn_heads')\n",
    "pos_data_mmvet.shape, neg_data_mmvet.shape"
   ]
  },
  {
   "cell_type": "code",
   "execution_count": 28,
   "metadata": {},
   "outputs": [],
   "source": [
    "import json\n",
    "test_mmvet = '/workspace/safety_heads/Attack/output/LLaVA-7B/raw_mmvet__all_oe_activations.pkl'\n",
    "json_path = './eval/mmvet/llava/mm32-seed0.json'\n",
    "os.makedirs(os.path.dirname(json_path), exist_ok=True)\n",
    "pos_data_test_mmvet, neg_data_test_mmvet = read_data_all(test_mmvet)\n",
    "data = dict()\n",
    "for i, d in enumerate(pos_data_test_mmvet):\n",
    "    data[f'v1_{i}'] = int(metrics['pred'][i] > 0.5)\n",
    "with open(json_path, \"w\", encoding=\"utf-8\") as f:\n",
    "    json.dump(data, f, indent=4)"
   ]
  },
  {
   "cell_type": "code",
   "execution_count": 29,
   "metadata": {},
   "outputs": [
    {
     "data": {
      "text/plain": [
       "(torch.Size([252, 32, 32, 128]), torch.Size([1548, 32, 32, 128]))"
      ]
     },
     "execution_count": 29,
     "metadata": {},
     "output_type": "execute_result"
    }
   ],
   "source": [
    "pos_data_train, neg_data_train = read_data('output/LLaVA-7B/raw_mmsafety_train_all_oe_activations.pkl', loc='attn_heads')\n",
    "pos_data_test, neg_data_test = read_data('output/LLaVA-7B/raw_mmsafety_test_all_oe_activations.pkl', loc='attn_heads')\n",
    "# pos_data_train, neg_data_train = read_data('output/Qwen-VL-Chat/raw_mmsafety_train_all_oe_activations.pkl', loc='attn_heads')\n",
    "# pos_data_test, neg_data_test = read_data('output/Qwen-VL-Chat/raw_mmsafety_test_all_oe_activations.pkl', loc='attn_heads')\n",
    "pos_data_train.shape, pos_data_test.shape"
   ]
  },
  {
   "cell_type": "code",
   "execution_count": 34,
   "metadata": {},
   "outputs": [
    {
     "name": "stderr",
     "output_type": "stream",
     "text": [
      "100%|██████████| 20/20 [04:14<00:00, 12.74s/it]\n"
     ]
    }
   ],
   "source": [
    "metrics_mmsafety, _ = few_shot_probing(pos_data_train, neg_data_train, num_shot=20, num_repeat=20, model_name='lda')"
   ]
  },
  {
   "cell_type": "code",
   "execution_count": 35,
   "metadata": {},
   "outputs": [
    {
     "data": {
      "text/plain": [
       "0.7648370150862069"
      ]
     },
     "execution_count": 35,
     "metadata": {},
     "output_type": "execute_result"
    }
   ],
   "source": [
    "top_k = 32\n",
    "top_k_indices_flat_alpha = np.argsort(np.array(metrics_mmsafety['alpha']).mean(0))[-top_k:][::-1]\n",
    "top_k_indices_alpha = np.array(np.unravel_index(top_k_indices_flat_alpha, (32, 32))).T\n",
    "# np.sort(np.array(metrics_mmsafety['alpha']).mean(0))[-top_k:].mean() # 返回数组的值 取平均\n",
    "np.array(metrics_mmsafety['acc'])[:, top_k_indices_flat_alpha].mean()"
   ]
  },
  {
   "cell_type": "code",
   "execution_count": null,
   "metadata": {},
   "outputs": [
    {
     "name": "stderr",
     "output_type": "stream",
     "text": [
      "100%|██████████| 20/20 [00:20<00:00,  1.03s/it]\n"
     ]
    },
    {
     "data": {
      "image/png": "[encoded data removed]",
      "text/plain": [
       "<Figure size 300x300 with 2 Axes>"
      ]
     },
     "metadata": {},
     "output_type": "display_data"
    },
    {
     "data": {
      "text/plain": [
       "(6.011904761904762, 92.64880952380952, 93.3184523809524, 93.36864174319064)"
      ]
     },
     "execution_count": 38,
     "metadata": {},
     "output_type": "execute_result"
    }
   ],
   "source": [
    "num_shot = int(pos_data_train.shape[0] / 3 * 2) * 0.5\n",
    "# num_shot = int(pos_data_train.shape[0] * 0.5)\n",
    "num_repeat = 20\n",
    "metrics, model_list_lda_alpha = few_shot_probing(get_safety_heads_activation(pos_data_train, top_k_indices_alpha), get_safety_heads_activation(neg_data_train, top_k_indices_alpha), num_shot=num_shot, num_repeat=num_repeat, model_name='lda')\n",
    "plot_avg_confusion_matrix(metrics['matrixes'])\n",
    "metrics['asr'].mean(), metrics['pr'].mean(), metrics['acc'].mean()*100, metrics['f1'].mean()*100"
   ]
  },
  {
   "cell_type": "markdown",
   "metadata": {},
   "source": [
    "### transfer"
   ]
  },
  {
   "cell_type": "markdown",
   "metadata": {},
   "source": [
    "##### indomain"
   ]
  },
  {
   "cell_type": "code",
   "execution_count": 40,
   "metadata": {},
   "outputs": [
    {
     "name": "stderr",
     "output_type": "stream",
     "text": [
      "100%|██████████| 20/20 [00:01<00:00, 12.95it/s]\n"
     ]
    },
    {
     "data": {
      "text/plain": [
       "(0.9290826612903225, 4.516954407662744e-05)"
      ]
     },
     "execution_count": 40,
     "metadata": {},
     "output_type": "execute_result"
    }
   ],
   "source": [
    "# pos_ind, neg_ind = read_data('/workspace/safety_heads/Attack/output_old/Qwen-VL-Chat/raw_mmsafety_SD_TYPO_all_oe_activations.pkl', loc='attn_heads')\n",
    "metrics = testing(\n",
    "    torch.cat([get_safety_heads_activation(pos_data_test, top_k_indices_alpha), get_safety_heads_activation(neg_data_test, top_k_indices_alpha)]),\n",
    "    torch.cat([torch.zeros(pos_data_test.shape[0]), torch.ones(neg_data_test.shape[0])]), \n",
    "    model_list_lda_alpha\n",
    "    )\n",
    "metrics['acc'].mean(), metrics['acc'].var()"
   ]
  },
  {
   "cell_type": "markdown",
   "metadata": {},
   "source": [
    "##### indomain neg data std"
   ]
  },
  {
   "cell_type": "code",
   "execution_count": 43,
   "metadata": {},
   "outputs": [
    {
     "name": "stderr",
     "output_type": "stream",
     "text": [
      "100%|██████████| 20/20 [00:01<00:00, 18.64it/s]\n"
     ]
    },
    {
     "data": {
      "text/plain": [
       "(0.9482142857142856, 0.00017882030263085646)"
      ]
     },
     "execution_count": 43,
     "metadata": {},
     "output_type": "execute_result"
    }
   ],
   "source": [
    "metrics = testing(\n",
    "    get_safety_heads_activation(neg_data_test, top_k_indices_alpha),\n",
    "    torch.ones(neg_data_test.shape[0]), \n",
    "    model_list_lda_alpha\n",
    "    )\n",
    "metrics['acc'].mean(), metrics['acc'].var()"
   ]
  },
  {
   "cell_type": "markdown",
   "metadata": {},
   "source": [
    "##### mmsafety --> vlguard"
   ]
  },
  {
   "cell_type": "code",
   "execution_count": 53,
   "metadata": {},
   "outputs": [
    {
     "name": "stderr",
     "output_type": "stream",
     "text": [
      "100%|██████████| 20/20 [00:00<00:00, 21.15it/s]\n"
     ]
    },
    {
     "data": {
      "text/plain": [
       "(0.759825997952917, 0.010429203827227878)"
      ]
     },
     "execution_count": 53,
     "metadata": {},
     "output_type": "execute_result"
    }
   ],
   "source": [
    "pos_ood, neg_ood = read_data('output/LLaVA-7B/raw_vlguard_train_all_oe_activations.pkl', loc='attn_heads')\n",
    "# pos_ood, neg_ood = read_data('output/Qwen-VL-Chat/raw_vlguard_train_all_oe_activations.pkl', loc='attn_heads')\n",
    "metrics = testing(\n",
    "    torch.cat([get_safety_heads_activation(pos_ood, top_k_indices_alpha), get_safety_heads_activation(neg_ood, top_k_indices_alpha)]),\n",
    "    torch.cat([torch.zeros(pos_ood.shape[0]), torch.ones(neg_ood.shape[0])]), \n",
    "    model_list_lda_alpha, \n",
    "    threshold=0.5\n",
    "    )\n",
    "metrics['acc'].mean(), metrics['acc'].var()"
   ]
  },
  {
   "cell_type": "code",
   "execution_count": 54,
   "metadata": {},
   "outputs": [
    {
     "name": "stderr",
     "output_type": "stream",
     "text": [
      "100%|██████████| 20/20 [00:00<00:00, 78.31it/s]\n"
     ]
    },
    {
     "data": {
      "text/plain": [
       "(0.5745519713261649, 0.0428814506494007)"
      ]
     },
     "execution_count": 54,
     "metadata": {},
     "output_type": "execute_result"
    }
   ],
   "source": [
    "_, neg_ood = read_data('output_old/LLaVA-7B/raw_vlguard_test_all_oe_activations.pkl', loc='attn_heads')\n",
    "# _, neg_ood = read_data('output/Qwen-VL-Chat/raw_vlguard_test_all_oe_activations.pkl', loc='attn_heads')\n",
    "metrics = testing(get_safety_heads_activation(neg_ood, top_k_indices_alpha), torch.ones(neg_ood.shape[0]), model_list_lda_alpha, threshold=0.5)\n",
    "# metrics = testing(get_safety_heads_activation(pos_ood, top_k_indices_alpha), torch.zeros(pos_ood.shape[0]), model_list_lda_alpha, threshold=0.5)\n",
    "metrics['acc'].mean(), metrics['acc'].var()"
   ]
  },
  {
   "cell_type": "markdown",
   "metadata": {},
   "source": [
    "##### mmsafet --> vlsafe"
   ]
  },
  {
   "cell_type": "code",
   "execution_count": 55,
   "metadata": {},
   "outputs": [
    {
     "name": "stderr",
     "output_type": "stream",
     "text": [
      "100%|██████████| 20/20 [00:00<00:00, 40.73it/s]\n"
     ]
    },
    {
     "data": {
      "text/plain": [
       "(0.9530630630630632, 0.0007048859670481293)"
      ]
     },
     "execution_count": 55,
     "metadata": {},
     "output_type": "execute_result"
    }
   ],
   "source": [
    "with open('output_old/LLaVA-7B/raw_vlsafe_none_all_oe_activations.pkl', 'rb') as file:\n",
    "# with open('output/Qwen-VL-Chat/raw_vlsafe_test_all_oe_activations.pkl', 'rb') as file:\n",
    "    data = pickle.load(file)\n",
    "neg_ood = [d['attn_heads'] for d in data]\n",
    "neg_ood = torch.stack(neg_ood).float()\n",
    "\n",
    "metrics = testing(get_safety_heads_activation(neg_ood, top_k_indices_alpha), torch.ones(neg_ood.shape[0]), model_list_lda_alpha, threshold=0.5)\n",
    "metrics['acc'].mean(), metrics['acc'].var()"
   ]
  }
 ],
 "metadata": {
  "kernelspec": {
   "display_name": "zjy",
   "language": "python",
   "name": "python3"
  },
  "language_info": {
   "codemirror_mode": {
    "name": "ipython",
    "version": 3
   },
   "file_extension": ".py",
   "mimetype": "text/x-python",
   "name": "python",
   "nbconvert_exporter": "python",
   "pygments_lexer": "ipython3",
   "version": "3.10.14"
  }
 },
 "nbformat": 4,
 "nbformat_minor": 2
}
